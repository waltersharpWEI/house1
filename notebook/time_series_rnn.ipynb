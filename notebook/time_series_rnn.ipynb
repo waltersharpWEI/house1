{
 "cells": [
  {
   "cell_type": "code",
   "execution_count": 16,
   "metadata": {
    "collapsed": true
   },
   "outputs": [],
   "source": [
    "import pandas as pd\n",
    "import numpy as np\n",
    "%matplotlib inline\n",
    "import matplotlib\n",
    "import matplotlib.pyplot as plt\n",
    "from sklearn.linear_model import LinearRegression\n",
    "\n",
    "matplotlib.rcParams['figure.figsize'] = (16.0, 8.0)"
   ]
  },
  {
   "cell_type": "code",
   "execution_count": 17,
   "metadata": {},
   "outputs": [],
   "source": [
    "X = pd.read_csv('../House_info_data.csv',encoding='gbk')\n",
    "Y = pd.read_csv('../House_price_data.csv',encoding='gbk')"
   ]
  },
  {
   "cell_type": "code",
   "execution_count": 18,
   "metadata": {},
   "outputs": [
    {
     "data": {
      "text/html": [
       "<div>\n",
       "<style>\n",
       "    .dataframe thead tr:only-child th {\n",
       "        text-align: right;\n",
       "    }\n",
       "\n",
       "    .dataframe thead th {\n",
       "        text-align: left;\n",
       "    }\n",
       "\n",
       "    .dataframe tbody tr th {\n",
       "        vertical-align: top;\n",
       "    }\n",
       "</style>\n",
       "<table border=\"1\" class=\"dataframe\">\n",
       "  <thead>\n",
       "    <tr style=\"text-align: right;\">\n",
       "      <th></th>\n",
       "      <th>HOUSE_SRN</th>\n",
       "      <th>CITY</th>\n",
       "      <th>AREA</th>\n",
       "      <th>DATA_DATE</th>\n",
       "      <th>AVG_PRICE</th>\n",
       "      <th>DATA_DATE_Y</th>\n",
       "      <th>DATA_DATE_M</th>\n",
       "      <th>DATA_DATE_RM</th>\n",
       "    </tr>\n",
       "  </thead>\n",
       "  <tbody>\n",
       "    <tr>\n",
       "      <th>0</th>\n",
       "      <td>1</td>\n",
       "      <td>北京</td>\n",
       "      <td>朝阳</td>\n",
       "      <td>2004-03-05</td>\n",
       "      <td>6000.0</td>\n",
       "      <td>2004.0</td>\n",
       "      <td>3.0</td>\n",
       "      <td>3.0</td>\n",
       "    </tr>\n",
       "    <tr>\n",
       "      <th>1</th>\n",
       "      <td>1</td>\n",
       "      <td>北京</td>\n",
       "      <td>朝阳</td>\n",
       "      <td>2012-03-09</td>\n",
       "      <td>4850.0</td>\n",
       "      <td>2012.0</td>\n",
       "      <td>3.0</td>\n",
       "      <td>99.0</td>\n",
       "    </tr>\n",
       "    <tr>\n",
       "      <th>2</th>\n",
       "      <td>1</td>\n",
       "      <td>北京</td>\n",
       "      <td>朝阳</td>\n",
       "      <td>2014-07-01</td>\n",
       "      <td>40782.0</td>\n",
       "      <td>2014.0</td>\n",
       "      <td>7.0</td>\n",
       "      <td>126.0</td>\n",
       "    </tr>\n",
       "    <tr>\n",
       "      <th>3</th>\n",
       "      <td>1</td>\n",
       "      <td>北京</td>\n",
       "      <td>朝阳</td>\n",
       "      <td>2014-12-01</td>\n",
       "      <td>35559.0</td>\n",
       "      <td>2014.0</td>\n",
       "      <td>12.0</td>\n",
       "      <td>131.0</td>\n",
       "    </tr>\n",
       "    <tr>\n",
       "      <th>4</th>\n",
       "      <td>1</td>\n",
       "      <td>北京</td>\n",
       "      <td>朝阳</td>\n",
       "      <td>2015-01-01</td>\n",
       "      <td>35358.0</td>\n",
       "      <td>2015.0</td>\n",
       "      <td>1.0</td>\n",
       "      <td>133.0</td>\n",
       "    </tr>\n",
       "  </tbody>\n",
       "</table>\n",
       "</div>"
      ],
      "text/plain": [
       "  HOUSE_SRN CITY AREA  DATA_DATE  AVG_PRICE  DATA_DATE_Y  DATA_DATE_M  \\\n",
       "0         1   北京   朝阳 2004-03-05     6000.0       2004.0          3.0   \n",
       "1         1   北京   朝阳 2012-03-09     4850.0       2012.0          3.0   \n",
       "2         1   北京   朝阳 2014-07-01    40782.0       2014.0          7.0   \n",
       "3         1   北京   朝阳 2014-12-01    35559.0       2014.0         12.0   \n",
       "4         1   北京   朝阳 2015-01-01    35358.0       2015.0          1.0   \n",
       "\n",
       "   DATA_DATE_RM  \n",
       "0           3.0  \n",
       "1          99.0  \n",
       "2         126.0  \n",
       "3         131.0  \n",
       "4         133.0  "
      ]
     },
     "execution_count": 18,
     "metadata": {},
     "output_type": "execute_result"
    }
   ],
   "source": [
    "data = X.loc[:,['HOUSE_SRN','CITY','AREA']]\n",
    "Y.HOUSE_SRN = Y.HOUSE_SRN.astype(str)\n",
    "total = pd.merge(data,Y,on=\"HOUSE_SRN\",how='left')\n",
    "total['DATA_DATE'] = pd.to_datetime(total['DATA_DATE'])\n",
    "total['DATA_DATE_Y'] = total.DATA_DATE.dt.year\n",
    "total['DATA_DATE_M'] = total.DATA_DATE.dt.month\n",
    "total['DATA_DATE_RM'] = (total.DATA_DATE - pd.to_datetime('2004/01/01')).astype('timedelta64[M]') + 1\n",
    "total = total.drop('HIGHEST_PRICE',axis=1)\n",
    "total = total.drop('LOWEST_PRICE',axis=1)\n",
    "total.dropna(how='any')\n",
    "total.head()"
   ]
  },
  {
   "cell_type": "code",
   "execution_count": 19,
   "metadata": {},
   "outputs": [
    {
     "data": {
      "text/html": [
       "<div>\n",
       "<style>\n",
       "    .dataframe thead tr:only-child th {\n",
       "        text-align: right;\n",
       "    }\n",
       "\n",
       "    .dataframe thead th {\n",
       "        text-align: left;\n",
       "    }\n",
       "\n",
       "    .dataframe tbody tr th {\n",
       "        vertical-align: top;\n",
       "    }\n",
       "</style>\n",
       "<table border=\"1\" class=\"dataframe\">\n",
       "  <thead>\n",
       "    <tr style=\"text-align: right;\">\n",
       "      <th></th>\n",
       "      <th>DATA_DATE_RM</th>\n",
       "      <th>AVG_PRICE</th>\n",
       "      <th>DATA_DATE_Y</th>\n",
       "      <th>DATA_DATE_M</th>\n",
       "    </tr>\n",
       "  </thead>\n",
       "  <tbody>\n",
       "    <tr>\n",
       "      <th>0</th>\n",
       "      <td>-1.0</td>\n",
       "      <td>7885.000000</td>\n",
       "      <td>2003.0</td>\n",
       "      <td>11.125</td>\n",
       "    </tr>\n",
       "    <tr>\n",
       "      <th>1</th>\n",
       "      <td>0.0</td>\n",
       "      <td>6948.864407</td>\n",
       "      <td>2003.0</td>\n",
       "      <td>12.000</td>\n",
       "    </tr>\n",
       "    <tr>\n",
       "      <th>2</th>\n",
       "      <td>1.0</td>\n",
       "      <td>7003.870968</td>\n",
       "      <td>2004.0</td>\n",
       "      <td>1.000</td>\n",
       "    </tr>\n",
       "    <tr>\n",
       "      <th>3</th>\n",
       "      <td>2.0</td>\n",
       "      <td>6019.555556</td>\n",
       "      <td>2004.0</td>\n",
       "      <td>2.100</td>\n",
       "    </tr>\n",
       "    <tr>\n",
       "      <th>4</th>\n",
       "      <td>3.0</td>\n",
       "      <td>7576.533333</td>\n",
       "      <td>2004.0</td>\n",
       "      <td>3.000</td>\n",
       "    </tr>\n",
       "  </tbody>\n",
       "</table>\n",
       "</div>"
      ],
      "text/plain": [
       "   DATA_DATE_RM    AVG_PRICE  DATA_DATE_Y  DATA_DATE_M\n",
       "0          -1.0  7885.000000       2003.0       11.125\n",
       "1           0.0  6948.864407       2003.0       12.000\n",
       "2           1.0  7003.870968       2004.0        1.000\n",
       "3           2.0  6019.555556       2004.0        2.100\n",
       "4           3.0  7576.533333       2004.0        3.000"
      ]
     },
     "execution_count": 19,
     "metadata": {},
     "output_type": "execute_result"
    }
   ],
   "source": [
    "samp = total[total['AREA'] == u'朝阳'].groupby(['DATA_DATE_RM']).mean().reset_index()\n",
    "samp.head()"
   ]
  },
  {
   "cell_type": "code",
   "execution_count": 20,
   "metadata": {},
   "outputs": [
    {
     "data": {
      "text/html": [
       "<div>\n",
       "<style>\n",
       "    .dataframe thead tr:only-child th {\n",
       "        text-align: right;\n",
       "    }\n",
       "\n",
       "    .dataframe thead th {\n",
       "        text-align: left;\n",
       "    }\n",
       "\n",
       "    .dataframe tbody tr th {\n",
       "        vertical-align: top;\n",
       "    }\n",
       "</style>\n",
       "<table border=\"1\" class=\"dataframe\">\n",
       "  <thead>\n",
       "    <tr style=\"text-align: right;\">\n",
       "      <th></th>\n",
       "      <th>DATA_DATE_RM</th>\n",
       "      <th>AVG_PRICE</th>\n",
       "      <th>DATA_DATE_Y</th>\n",
       "      <th>DATA_DATE_M</th>\n",
       "    </tr>\n",
       "  </thead>\n",
       "  <tbody>\n",
       "    <tr>\n",
       "      <th>150</th>\n",
       "      <td>149.0</td>\n",
       "      <td>46304.484619</td>\n",
       "      <td>2016.0</td>\n",
       "      <td>5.878227</td>\n",
       "    </tr>\n",
       "    <tr>\n",
       "      <th>151</th>\n",
       "      <td>150.0</td>\n",
       "      <td>46762.524666</td>\n",
       "      <td>2016.0</td>\n",
       "      <td>6.894450</td>\n",
       "    </tr>\n",
       "    <tr>\n",
       "      <th>152</th>\n",
       "      <td>151.0</td>\n",
       "      <td>62956.477778</td>\n",
       "      <td>2016.0</td>\n",
       "      <td>7.000000</td>\n",
       "    </tr>\n",
       "    <tr>\n",
       "      <th>153</th>\n",
       "      <td>152.0</td>\n",
       "      <td>48250.321218</td>\n",
       "      <td>2016.0</td>\n",
       "      <td>8.000000</td>\n",
       "    </tr>\n",
       "    <tr>\n",
       "      <th>154</th>\n",
       "      <td>153.0</td>\n",
       "      <td>49306.053320</td>\n",
       "      <td>2016.0</td>\n",
       "      <td>9.000000</td>\n",
       "    </tr>\n",
       "  </tbody>\n",
       "</table>\n",
       "</div>"
      ],
      "text/plain": [
       "     DATA_DATE_RM     AVG_PRICE  DATA_DATE_Y  DATA_DATE_M\n",
       "150         149.0  46304.484619       2016.0     5.878227\n",
       "151         150.0  46762.524666       2016.0     6.894450\n",
       "152         151.0  62956.477778       2016.0     7.000000\n",
       "153         152.0  48250.321218       2016.0     8.000000\n",
       "154         153.0  49306.053320       2016.0     9.000000"
      ]
     },
     "execution_count": 20,
     "metadata": {},
     "output_type": "execute_result"
    }
   ],
   "source": [
    "samp.tail()"
   ]
  },
  {
   "cell_type": "code",
   "execution_count": 21,
   "metadata": {},
   "outputs": [
    {
     "data": {
      "image/png": "[encoded data removed]",
      "text/plain": [
       "<matplotlib.figure.Figure at 0xe98f0b8>"
      ]
     },
     "metadata": {},
     "output_type": "display_data"
    },
    {
     "ename": "ValueError",
     "evalue": "Expected 2D array, got 1D array instead:\narray=[  7885.           6948.86425781   7003.87109375   6019.55566406\n   7576.53320312   8737.05859375   6283.75         8150.           7895.85302734\n   8073.95166016   8567.16699219   7549.94580078   8267.37988281\n   7250.56542969   8421.05566406   8024.09082031   7221.71435547\n   8508.20019531   8382.12792969   9781.15429688   9399.69726562\n   9867.02734375   8199.03027344   9573.68457031   9426.22851562\n   9771.78417969  10034.43457031   9444.35253906   8901.52148438\n   8778.45703125   9254.81445312   9877.84277344  11752.68261719\n  10687.48730469  11031.95605469  11780.29589844  12071.5         11490.90917969\n  13629.33300781  12434.90039062  12318.18164062  14083.87109375\n  12732.8125      14040.51269531  14097.14257812  15720.          17368.76171875\n  18551.96679688  21006.66601562  21925.          19852.94140625\n  21092.85742188  19847.61914062  22939.13085938  21570.58789062\n  23726.66601562  16755.5546875   17965.          18900.77734375\n  16121.05273438  17038.66601562  15099.07714844  18445.45507812  21200.\n  16919.61328125  14044.          21811.11132812  16715.15234375\n  18778.29882812  22864.          20059.33398438  23877.14257812\n  24195.45117188  27369.98046875  26842.          29392.30859375\n  32768.29296875  33588.37109375  29893.33398438  36364.          36901.26171875\n  34937.5         33919.046875    36710.52734375  34356.          36404.546875\n  35811.5390625   39126.66796875  39978.26171875  37816.12890625\n  38758.33203125  38680.953125    38847.05859375  37460.          33241.66796875\n  43623.53125     35545.          42892.234375    34376.921875\n  40823.6015625   38425.          42316.66796875  36157.58203125\n  33626.66796875  38823.53125     31205.8828125   37055.5546875   37030.\n  37228.5703125   44063.33203125  45544.6796875   40493.64453125\n  49769.66796875  54208.2265625   53403.5078125   47530.66015625\n  49332.05078125  50969.08984375  57023.5859375   57860.          56369.30859375\n  56038.73828125  55000.          49985.71484375  48964.28515625  55500.\n  39764.73828125  29984.94335938  52721.875       60297.296875\n  63351.3515625   49800.          41289.71875     63363.63671875\n  39301.30859375  39444.33203125  40199.546875    40268.7890625\n  39758.87890625  39889.76171875  40068.61328125  40445.00390625\n  40739.02734375  40831.453125    41193.31640625  70118.1796875\n  40545.796875    41576.0625      45238.9453125   45905.80078125\n  46304.484375    46762.5234375   62956.4765625   48250.3203125\n  49306.0546875 ].\nReshape your data either using array.reshape(-1, 1) if your data has a single feature or array.reshape(1, -1) if it contains a single sample.",
     "output_type": "error",
     "traceback": [
      "\u001b[1;31m---------------------------------------------------------------------------\u001b[0m",
      "\u001b[1;31mValueError\u001b[0m                                Traceback (most recent call last)",
      "\u001b[1;32m<ipython-input-21-e8a9ca1da2f7>\u001b[0m in \u001b[0;36m<module>\u001b[1;34m()\u001b[0m\n\u001b[0;32m     10\u001b[0m \u001b[0mplt\u001b[0m\u001b[1;33m.\u001b[0m\u001b[0mshow\u001b[0m\u001b[1;33m(\u001b[0m\u001b[1;33m)\u001b[0m\u001b[1;33m\u001b[0m\u001b[0m\n\u001b[0;32m     11\u001b[0m \u001b[0mmin_max_scaler\u001b[0m \u001b[1;33m=\u001b[0m \u001b[0mpreprocessing\u001b[0m\u001b[1;33m.\u001b[0m\u001b[0mMinMaxScaler\u001b[0m\u001b[1;33m(\u001b[0m\u001b[1;33m)\u001b[0m\u001b[1;33m\u001b[0m\u001b[0m\n\u001b[1;32m---> 12\u001b[1;33m \u001b[0msamples\u001b[0m \u001b[1;33m=\u001b[0m \u001b[0mmin_max_scaler\u001b[0m\u001b[1;33m.\u001b[0m\u001b[0mfit_transform\u001b[0m\u001b[1;33m(\u001b[0m\u001b[0msamples\u001b[0m\u001b[1;33m)\u001b[0m\u001b[1;33m\u001b[0m\u001b[0m\n\u001b[0m\u001b[0;32m     13\u001b[0m \u001b[0mplt\u001b[0m\u001b[1;33m.\u001b[0m\u001b[0mplot\u001b[0m\u001b[1;33m(\u001b[0m\u001b[0ma\u001b[0m\u001b[1;33m,\u001b[0m\u001b[0msamples\u001b[0m\u001b[1;33m.\u001b[0m\u001b[0mreshape\u001b[0m\u001b[1;33m(\u001b[0m\u001b[0mlength\u001b[0m\u001b[1;33m,\u001b[0m\u001b[1;36m1\u001b[0m\u001b[1;33m)\u001b[0m\u001b[1;33m,\u001b[0m\u001b[1;34m'-o'\u001b[0m\u001b[1;33m)\u001b[0m\u001b[1;33m\u001b[0m\u001b[0m\n\u001b[0;32m     14\u001b[0m \u001b[0mplt\u001b[0m\u001b[1;33m.\u001b[0m\u001b[0mshow\u001b[0m\u001b[1;33m(\u001b[0m\u001b[1;33m)\u001b[0m\u001b[1;33m\u001b[0m\u001b[0m\n",
      "\u001b[1;32m~\\AppData\\Local\\Continuum\\anaconda3\\envs\\tensorflow\\lib\\site-packages\\sklearn\\base.py\u001b[0m in \u001b[0;36mfit_transform\u001b[1;34m(self, X, y, **fit_params)\u001b[0m\n\u001b[0;32m    515\u001b[0m         \u001b[1;32mif\u001b[0m \u001b[0my\u001b[0m \u001b[1;32mis\u001b[0m \u001b[1;32mNone\u001b[0m\u001b[1;33m:\u001b[0m\u001b[1;33m\u001b[0m\u001b[0m\n\u001b[0;32m    516\u001b[0m             \u001b[1;31m# fit method of arity 1 (unsupervised transformation)\u001b[0m\u001b[1;33m\u001b[0m\u001b[1;33m\u001b[0m\u001b[0m\n\u001b[1;32m--> 517\u001b[1;33m             \u001b[1;32mreturn\u001b[0m \u001b[0mself\u001b[0m\u001b[1;33m.\u001b[0m\u001b[0mfit\u001b[0m\u001b[1;33m(\u001b[0m\u001b[0mX\u001b[0m\u001b[1;33m,\u001b[0m \u001b[1;33m**\u001b[0m\u001b[0mfit_params\u001b[0m\u001b[1;33m)\u001b[0m\u001b[1;33m.\u001b[0m\u001b[0mtransform\u001b[0m\u001b[1;33m(\u001b[0m\u001b[0mX\u001b[0m\u001b[1;33m)\u001b[0m\u001b[1;33m\u001b[0m\u001b[0m\n\u001b[0m\u001b[0;32m    518\u001b[0m         \u001b[1;32melse\u001b[0m\u001b[1;33m:\u001b[0m\u001b[1;33m\u001b[0m\u001b[0m\n\u001b[0;32m    519\u001b[0m             \u001b[1;31m# fit method of arity 2 (supervised transformation)\u001b[0m\u001b[1;33m\u001b[0m\u001b[1;33m\u001b[0m\u001b[0m\n",
      "\u001b[1;32m~\\AppData\\Local\\Continuum\\anaconda3\\envs\\tensorflow\\lib\\site-packages\\sklearn\\preprocessing\\data.py\u001b[0m in \u001b[0;36mfit\u001b[1;34m(self, X, y)\u001b[0m\n\u001b[0;32m    306\u001b[0m         \u001b[1;31m# Reset internal state before fitting\u001b[0m\u001b[1;33m\u001b[0m\u001b[1;33m\u001b[0m\u001b[0m\n\u001b[0;32m    307\u001b[0m         \u001b[0mself\u001b[0m\u001b[1;33m.\u001b[0m\u001b[0m_reset\u001b[0m\u001b[1;33m(\u001b[0m\u001b[1;33m)\u001b[0m\u001b[1;33m\u001b[0m\u001b[0m\n\u001b[1;32m--> 308\u001b[1;33m         \u001b[1;32mreturn\u001b[0m \u001b[0mself\u001b[0m\u001b[1;33m.\u001b[0m\u001b[0mpartial_fit\u001b[0m\u001b[1;33m(\u001b[0m\u001b[0mX\u001b[0m\u001b[1;33m,\u001b[0m \u001b[0my\u001b[0m\u001b[1;33m)\u001b[0m\u001b[1;33m\u001b[0m\u001b[0m\n\u001b[0m\u001b[0;32m    309\u001b[0m \u001b[1;33m\u001b[0m\u001b[0m\n\u001b[0;32m    310\u001b[0m     \u001b[1;32mdef\u001b[0m \u001b[0mpartial_fit\u001b[0m\u001b[1;33m(\u001b[0m\u001b[0mself\u001b[0m\u001b[1;33m,\u001b[0m \u001b[0mX\u001b[0m\u001b[1;33m,\u001b[0m \u001b[0my\u001b[0m\u001b[1;33m=\u001b[0m\u001b[1;32mNone\u001b[0m\u001b[1;33m)\u001b[0m\u001b[1;33m:\u001b[0m\u001b[1;33m\u001b[0m\u001b[0m\n",
      "\u001b[1;32m~\\AppData\\Local\\Continuum\\anaconda3\\envs\\tensorflow\\lib\\site-packages\\sklearn\\preprocessing\\data.py\u001b[0m in \u001b[0;36mpartial_fit\u001b[1;34m(self, X, y)\u001b[0m\n\u001b[0;32m    332\u001b[0m \u001b[1;33m\u001b[0m\u001b[0m\n\u001b[0;32m    333\u001b[0m         X = check_array(X, copy=self.copy, warn_on_dtype=True,\n\u001b[1;32m--> 334\u001b[1;33m                         estimator=self, dtype=FLOAT_DTYPES)\n\u001b[0m\u001b[0;32m    335\u001b[0m \u001b[1;33m\u001b[0m\u001b[0m\n\u001b[0;32m    336\u001b[0m         \u001b[0mdata_min\u001b[0m \u001b[1;33m=\u001b[0m \u001b[0mnp\u001b[0m\u001b[1;33m.\u001b[0m\u001b[0mmin\u001b[0m\u001b[1;33m(\u001b[0m\u001b[0mX\u001b[0m\u001b[1;33m,\u001b[0m \u001b[0maxis\u001b[0m\u001b[1;33m=\u001b[0m\u001b[1;36m0\u001b[0m\u001b[1;33m)\u001b[0m\u001b[1;33m\u001b[0m\u001b[0m\n",
      "\u001b[1;32m~\\AppData\\Local\\Continuum\\anaconda3\\envs\\tensorflow\\lib\\site-packages\\sklearn\\utils\\validation.py\u001b[0m in \u001b[0;36mcheck_array\u001b[1;34m(array, accept_sparse, dtype, order, copy, force_all_finite, ensure_2d, allow_nd, ensure_min_samples, ensure_min_features, warn_on_dtype, estimator)\u001b[0m\n\u001b[0;32m    439\u001b[0m                     \u001b[1;34m\"Reshape your data either using array.reshape(-1, 1) if \"\u001b[0m\u001b[1;33m\u001b[0m\u001b[0m\n\u001b[0;32m    440\u001b[0m                     \u001b[1;34m\"your data has a single feature or array.reshape(1, -1) \"\u001b[0m\u001b[1;33m\u001b[0m\u001b[0m\n\u001b[1;32m--> 441\u001b[1;33m                     \"if it contains a single sample.\".format(array))\n\u001b[0m\u001b[0;32m    442\u001b[0m             \u001b[0marray\u001b[0m \u001b[1;33m=\u001b[0m \u001b[0mnp\u001b[0m\u001b[1;33m.\u001b[0m\u001b[0matleast_2d\u001b[0m\u001b[1;33m(\u001b[0m\u001b[0marray\u001b[0m\u001b[1;33m)\u001b[0m\u001b[1;33m\u001b[0m\u001b[0m\n\u001b[0;32m    443\u001b[0m             \u001b[1;31m# To ensure that array flags are maintained\u001b[0m\u001b[1;33m\u001b[0m\u001b[1;33m\u001b[0m\u001b[0m\n",
      "\u001b[1;31mValueError\u001b[0m: Expected 2D array, got 1D array instead:\narray=[  7885.           6948.86425781   7003.87109375   6019.55566406\n   7576.53320312   8737.05859375   6283.75         8150.           7895.85302734\n   8073.95166016   8567.16699219   7549.94580078   8267.37988281\n   7250.56542969   8421.05566406   8024.09082031   7221.71435547\n   8508.20019531   8382.12792969   9781.15429688   9399.69726562\n   9867.02734375   8199.03027344   9573.68457031   9426.22851562\n   9771.78417969  10034.43457031   9444.35253906   8901.52148438\n   8778.45703125   9254.81445312   9877.84277344  11752.68261719\n  10687.48730469  11031.95605469  11780.29589844  12071.5         11490.90917969\n  13629.33300781  12434.90039062  12318.18164062  14083.87109375\n  12732.8125      14040.51269531  14097.14257812  15720.          17368.76171875\n  18551.96679688  21006.66601562  21925.          19852.94140625\n  21092.85742188  19847.61914062  22939.13085938  21570.58789062\n  23726.66601562  16755.5546875   17965.          18900.77734375\n  16121.05273438  17038.66601562  15099.07714844  18445.45507812  21200.\n  16919.61328125  14044.          21811.11132812  16715.15234375\n  18778.29882812  22864.          20059.33398438  23877.14257812\n  24195.45117188  27369.98046875  26842.          29392.30859375\n  32768.29296875  33588.37109375  29893.33398438  36364.          36901.26171875\n  34937.5         33919.046875    36710.52734375  34356.          36404.546875\n  35811.5390625   39126.66796875  39978.26171875  37816.12890625\n  38758.33203125  38680.953125    38847.05859375  37460.          33241.66796875\n  43623.53125     35545.          42892.234375    34376.921875\n  40823.6015625   38425.          42316.66796875  36157.58203125\n  33626.66796875  38823.53125     31205.8828125   37055.5546875   37030.\n  37228.5703125   44063.33203125  45544.6796875   40493.64453125\n  49769.66796875  54208.2265625   53403.5078125   47530.66015625\n  49332.05078125  50969.08984375  57023.5859375   57860.          56369.30859375\n  56038.73828125  55000.          49985.71484375  48964.28515625  55500.\n  39764.73828125  29984.94335938  52721.875       60297.296875\n  63351.3515625   49800.          41289.71875     63363.63671875\n  39301.30859375  39444.33203125  40199.546875    40268.7890625\n  39758.87890625  39889.76171875  40068.61328125  40445.00390625\n  40739.02734375  40831.453125    41193.31640625  70118.1796875\n  40545.796875    41576.0625      45238.9453125   45905.80078125\n  46304.484375    46762.5234375   62956.4765625   48250.3203125\n  49306.0546875 ].\nReshape your data either using array.reshape(-1, 1) if your data has a single feature or array.reshape(1, -1) if it contains a single sample."
     ]
    }
   ],
   "source": [
    "# split into trainset and testset\n",
    "from sklearn.cross_validation import train_test_split\n",
    "from sklearn import preprocessing\n",
    "\n",
    "\n",
    "length = samp.shape[0]\n",
    "a = samp.DATA_DATE_RM.values.reshape(length, 1)\n",
    "samples = samp['AVG_PRICE'].astype(np.float32).values\n",
    "plt.plot(a,samples.reshape(length,1),'-o')\n",
    "plt.show()\n",
    "min_max_scaler = preprocessing.MinMaxScaler()\n",
    "samples = min_max_scaler.fit_transform(samples)\n",
    "plt.plot(a,samples.reshape(length,1),'-o')\n",
    "plt.show()"
   ]
  },
  {
   "cell_type": "code",
   "execution_count": 22,
   "metadata": {
    "collapsed": true
   },
   "outputs": [],
   "source": [
    "import tensorflow as tf\n",
    "\n",
    "truncated_backprop_length = 15\n",
    "input_size = 5\n",
    "state_size = 4\n",
    "num_classes = 1\n",
    "# echo_step = 3\n",
    "batch_size = 1\n",
    "# num_batches = samples.shape[0]//batch_size\n",
    "num_epochs = 10000\n",
    "truncated_num = truncated_backprop_length - input_size + 1\n"
   ]
  },
  {
   "cell_type": "code",
   "execution_count": 23,
   "metadata": {
    "collapsed": true
   },
   "outputs": [],
   "source": [
    "batchX_placeholder = tf.placeholder(tf.float32, [batch_size, truncated_backprop_length])\n",
    "batchY_placeholder = tf.placeholder(tf.float32, [batch_size, truncated_num])\n",
    "\n",
    "#and one for the RNN state, 5,4 \n",
    "init_state = tf.placeholder(tf.float32, [batch_size, state_size])\n",
    "\n",
    "#3 layer recurrent net, one hidden state\n",
    "\n",
    "#randomly initialize weights\n",
    "W = tf.Variable(np.random.rand(state_size+input_size, state_size), dtype=tf.float32)\n",
    "#anchor, improves convergance, matrix of 0s \n",
    "b = tf.Variable(np.zeros((1,state_size)), dtype=tf.float32)\n",
    "\n",
    "W2 = tf.Variable(np.random.rand(state_size, num_classes),dtype=tf.float32)\n",
    "b2 = tf.Variable(np.zeros((1,num_classes)), dtype=tf.float32)\n",
    "labels_series = tf.unstack(batchY_placeholder, axis=1)"
   ]
  },
  {
   "cell_type": "code",
   "execution_count": 24,
   "metadata": {
    "collapsed": true
   },
   "outputs": [],
   "source": [
    "#Forward pass\n",
    "#state placeholder\n",
    "current_state = init_state\n",
    "#series of states through time\n",
    "states_series = []\n",
    "\n",
    "#for each set of inputs\n",
    "#forward pass through the network to get new state value\n",
    "#store all states in memory\n",
    "for i in range(truncated_num):\n",
    "    current_input = batchX_placeholder[:,i:i + input_size]\n",
    "#     mix input and state\n",
    "    input_and_state_concatenated = tf.concat([current_input,current_state],1)\n",
    "    #perform matrix multiplication between weights and input, add bias\n",
    "    #squash with a nonlinearity, for probabiolity value\n",
    "    next_state = tf.tanh(tf.matmul(input_and_state_concatenated, W) + b)  # Broadcasted addition\n",
    "    #store the state in memory\n",
    "    states_series.append(next_state)\n",
    "    #set current state to next one\n",
    "    current_state = next_state\n",
    "    "
   ]
  },
  {
   "cell_type": "code",
   "execution_count": 25,
   "metadata": {
    "collapsed": true
   },
   "outputs": [],
   "source": [
    "#calculate loss\n",
    "#second part of forward pass\n",
    "#logits short for logistic transform\n",
    "output_series = [tf.matmul(state, W2) + b2 for state in states_series] #Broadcasted addition\n",
    "losses = [tf.squared_difference(output,labels) for output, labels in zip(output_series,labels_series)]\n",
    "total_loss = tf.reduce_mean(losses)\n",
    "train_step = tf.train.AdagradOptimizer(0.003).minimize(total_loss)"
   ]
  },
  {
   "cell_type": "code",
   "execution_count": 26,
   "metadata": {},
   "outputs": [
    {
     "data": {
      "text/plain": [
       "<matplotlib.figure.Figure at 0x10df8c88>"
      ]
     },
     "metadata": {},
     "output_type": "display_data"
    },
    {
     "name": "stdout",
     "output_type": "stream",
     "text": [
      "Step 0 Loss 2.07732e+09\n",
      "Step 100 Loss 2.07725e+09\n",
      "Step 200 Loss 2.07722e+09\n",
      "Step 300 Loss 2.0772e+09\n",
      "Step 400 Loss 2.07718e+09\n",
      "Step 500 Loss 2.07716e+09\n",
      "Step 600 Loss 2.07714e+09\n",
      "Step 700 Loss 2.07713e+09\n",
      "Step 800 Loss 2.07712e+09\n",
      "Step 900 Loss 2.0771e+09\n",
      "Step 1000 Loss 2.07709e+09\n",
      "Step 1100 Loss 2.07708e+09\n",
      "Step 1200 Loss 2.07707e+09\n",
      "Step 1300 Loss 2.07706e+09\n",
      "Step 1400 Loss 2.07705e+09\n",
      "Step 1500 Loss 2.07704e+09\n",
      "Step 1600 Loss 2.07703e+09\n",
      "Step 1700 Loss 2.07702e+09\n",
      "Step 1800 Loss 2.07701e+09\n",
      "Step 1900 Loss 2.077e+09\n",
      "Step 2000 Loss 2.07699e+09\n",
      "Step 2100 Loss 2.07698e+09\n",
      "Step 2200 Loss 2.07698e+09\n",
      "Step 2300 Loss 2.07697e+09\n",
      "Step 2400 Loss 2.07696e+09\n",
      "Step 2500 Loss 2.07695e+09\n",
      "Step 2600 Loss 2.07695e+09\n",
      "Step 2700 Loss 2.07694e+09\n",
      "Step 2800 Loss 2.07693e+09\n",
      "Step 2900 Loss 2.07692e+09\n",
      "Step 3000 Loss 2.07692e+09\n",
      "Step 3100 Loss 2.07691e+09\n",
      "Step 3200 Loss 2.0769e+09\n",
      "Step 3300 Loss 2.0769e+09\n",
      "Step 3400 Loss 2.07689e+09\n",
      "Step 3500 Loss 2.07688e+09\n",
      "Step 3600 Loss 2.07688e+09\n",
      "Step 3700 Loss 2.07687e+09\n",
      "Step 3800 Loss 2.07687e+09\n",
      "Step 3900 Loss 2.07686e+09\n",
      "Step 4000 Loss 2.07685e+09\n",
      "Step 4100 Loss 2.07685e+09\n",
      "Step 4200 Loss 2.07684e+09\n",
      "Step 4300 Loss 2.07684e+09\n",
      "Step 4400 Loss 2.07683e+09\n",
      "Step 4500 Loss 2.07683e+09\n",
      "Step 4600 Loss 2.07682e+09\n",
      "Step 4700 Loss 2.07681e+09\n",
      "Step 4800 Loss 2.07681e+09\n",
      "Step 4900 Loss 2.0768e+09\n",
      "Step 5000 Loss 2.0768e+09\n",
      "Step 5100 Loss 2.07679e+09\n",
      "Step 5200 Loss 2.07679e+09\n",
      "Step 5300 Loss 2.07678e+09\n",
      "Step 5400 Loss 2.07678e+09\n",
      "Step 5500 Loss 2.07677e+09\n",
      "Step 5600 Loss 2.07677e+09\n",
      "Step 5700 Loss 2.07676e+09\n",
      "Step 5800 Loss 2.07676e+09\n",
      "Step 5900 Loss 2.07675e+09\n",
      "Step 6000 Loss 2.07675e+09\n",
      "Step 6100 Loss 2.07674e+09\n",
      "Step 6200 Loss 2.07674e+09\n",
      "Step 6300 Loss 2.07673e+09\n",
      "Step 6400 Loss 2.07673e+09\n",
      "Step 6500 Loss 2.07672e+09\n",
      "Step 6600 Loss 2.07672e+09\n",
      "Step 6700 Loss 2.07672e+09\n",
      "Step 6800 Loss 2.07671e+09\n",
      "Step 6900 Loss 2.07671e+09\n",
      "Step 7000 Loss 2.0767e+09\n",
      "Step 7100 Loss 2.0767e+09\n",
      "Step 7200 Loss 2.07669e+09\n",
      "Step 7300 Loss 2.07669e+09\n",
      "Step 7400 Loss 2.07668e+09\n",
      "Step 7500 Loss 2.07668e+09\n",
      "Step 7600 Loss 2.07668e+09\n",
      "Step 7700 Loss 2.07667e+09\n",
      "Step 7800 Loss 2.07667e+09\n",
      "Step 7900 Loss 2.07666e+09\n",
      "Step 8000 Loss 2.07666e+09\n",
      "Step 8100 Loss 2.07665e+09\n",
      "Step 8200 Loss 2.07665e+09\n",
      "Step 8300 Loss 2.07665e+09\n",
      "Step 8400 Loss 2.07664e+09\n",
      "Step 8500 Loss 2.07664e+09\n",
      "Step 8600 Loss 2.07663e+09\n",
      "Step 8700 Loss 2.07663e+09\n",
      "Step 8800 Loss 2.07663e+09\n",
      "Step 8900 Loss 2.07662e+09\n",
      "Step 9000 Loss 2.07662e+09\n",
      "Step 9100 Loss 2.07661e+09\n",
      "Step 9200 Loss 2.07661e+09\n",
      "Step 9300 Loss 2.07661e+09\n",
      "Step 9400 Loss 2.0766e+09\n",
      "Step 9500 Loss 2.0766e+09\n",
      "Step 9600 Loss 2.07659e+09\n",
      "Step 9700 Loss 2.07659e+09\n",
      "Step 9800 Loss 2.07659e+09\n",
      "Step 9900 Loss 2.07658e+09\n"
     ]
    },
    {
     "data": {
      "image/png": "[encoded data removed]",
      "text/plain": [
       "<matplotlib.figure.Figure at 0x12a88cf8>"
      ]
     },
     "metadata": {},
     "output_type": "display_data"
    },
    {
     "data": {
      "image/png": "[encoded data removed]",
      "text/plain": [
       "<matplotlib.figure.Figure at 0xc0e2438>"
      ]
     },
     "metadata": {},
     "output_type": "display_data"
    },
    {
     "name": "stdout",
     "output_type": "stream",
     "text": [
      "[[ 46304.484375   46762.5234375  62956.4765625  48250.3203125]]\n",
      "[[ 0.62848353  0.63562942  0.88827062  0.65884048  0.          0.          0.\n",
      "   0.          0.          0.          0.          0.          0.          0.\n",
      "   0.        ]]\n",
      "[array([[ 9.89036751]], dtype=float32), array([[ 9.88304138]], dtype=float32), array([[ 9.81830215]], dtype=float32), array([[ 9.59805393]], dtype=float32), array([[ 9.42110062]], dtype=float32), array([[ 9.38204575]], dtype=float32), array([[ 9.37363815]], dtype=float32), array([[ 9.37177467]], dtype=float32), array([[ 9.37136269]], dtype=float32), array([[ 9.37127113]], dtype=float32), array([[ 9.37125015]], dtype=float32)]\n"
     ]
    }
   ],
   "source": [
    "#Step 3 Training the network\n",
    "with tf.Session() as sess:\n",
    "    #we stupidly have to do this everytime, it should just know\n",
    "    #that we initialized these vars. v2 guys, v2..\n",
    "    sess.run(tf.global_variables_initializer())\n",
    "    #interactive mode\n",
    "    plt.ion()\n",
    "    #initialize the figure\n",
    "    plt.figure()\n",
    "    #show the graph\n",
    "    plt.show()\n",
    "    #to show the loss decrease\n",
    "    loss_list = []\n",
    "    \n",
    "    x = samples.reshape(batch_size,samples.shape[0]//batch_size)\n",
    "    \n",
    "    for epoch_idx in range(num_epochs):\n",
    "        #initialize an empty hidden state\n",
    "        _current_state = np.zeros((batch_size, state_size))\n",
    "\n",
    "#         print(\"New data, epoch\", epoch_idx)\n",
    "        #each batch\n",
    "        for batch_idx in range(x.shape[1] // truncated_backprop_length):\n",
    "            #starting and ending point per batch\n",
    "            #since weights reoccuer at every layer through time\n",
    "            #These layers will not be unrolled to the beginning of time, \n",
    "            #that would be too computationally expensive, and are therefore truncated \n",
    "            #at a limited number of time-steps\n",
    "            start_idx = batch_idx * truncated_backprop_length\n",
    "            end_idx = start_idx + truncated_backprop_length\n",
    "            \n",
    "            batchX = x[:,start_idx : end_idx]\n",
    "            batchY = x[:,start_idx+input_size:start_idx+input_size+truncated_num]\n",
    "\n",
    "            #run the computation graph, give it the values\n",
    "            #we calculated earlier\n",
    "            _total_loss, _train_step, _current_state, _output_series = sess.run(\n",
    "                [total_loss, train_step, current_state, output_series],\n",
    "                feed_dict={\n",
    "                    batchX_placeholder:batchX,\n",
    "                    batchY_placeholder:batchY,\n",
    "                    init_state:_current_state\n",
    "                })\n",
    "            \n",
    "            loss_list.append(_total_loss)\n",
    "        \n",
    "        if epoch_idx%100 == 0:\n",
    "            print(\"Step\",epoch_idx, \"Loss\", _total_loss)\n",
    "#             plt.plot(loss_list)\n",
    "    plt.plot(loss_list)\n",
    "    plt.show()\n",
    "    \n",
    "    #evaluate\n",
    "    #initialize an empty hidden state\n",
    "    _current_state = np.zeros((batch_size, state_size))\n",
    "    in_list = []\n",
    "    out_list = []\n",
    "#         print(\"New data, epoch\", epoch_idx)\n",
    "        #each batch\n",
    "    for batch_idx in range(x.shape[1] // truncated_backprop_length):\n",
    "        start_idx = batch_idx * truncated_backprop_length\n",
    "        end_idx = start_idx + truncated_backprop_length\n",
    "            \n",
    "        batchX = x[:,start_idx : end_idx]\n",
    "        batchY = x[:,start_idx+input_size:start_idx+input_size+truncated_num]\n",
    "\n",
    "        #run the computation graph, give it the values\n",
    "        #we calculated earlier\n",
    "        _total_loss, _train_step, _current_state, _output_series = sess.run(\n",
    "            [total_loss, train_step, current_state, output_series],\n",
    "            feed_dict={\n",
    "                batchX_placeholder:batchX,\n",
    "                batchY_placeholder:batchY,\n",
    "                init_state:_current_state\n",
    "            })\n",
    "        in_list = np.concatenate([in_list,batchY[0]])\n",
    "        out_list = np.concatenate([out_list,np.dstack(_output_series)[0][0]])\n",
    "#         out_list = out_list + _output_series\n",
    "        \n",
    "    plt.plot(out_list)\n",
    "    plt.plot(in_list)\n",
    "    plt.show()\n",
    "    \n",
    "    #predicting\n",
    "    batchX = x[:,end_idx:-1]\n",
    "    print(batchX)\n",
    "    batchX = np.array([[0.62848353,0.63562942,0.88827062 , 0.65884048 ,0 ,0, 0 ,0, 0 ,0, 0 ,0 ,0 ,0, 0]])\n",
    "    batchY = np.array([[0,0,0,0,0,0,0,0,0,0,0]])\n",
    "    print(batchX)\n",
    "    _total_loss, _current_state, _output_series = sess.run(\n",
    "        [total_loss, current_state, output_series],\n",
    "        feed_dict={\n",
    "            batchX_placeholder:batchX,\n",
    "            batchY_placeholder:batchY,\n",
    "            init_state:_current_state\n",
    "        })\n",
    "    print(_output_series)\n",
    "\n",
    "plt.ioff()\n",
    "plt.show()\n",
    "            "
   ]
  },
  {
   "cell_type": "code",
   "execution_count": 13,
   "metadata": {},
   "outputs": [
    {
     "data": {
      "text/plain": [
       "123683839978.94083"
      ]
     },
     "execution_count": 13,
     "metadata": {},
     "output_type": "execute_result"
    }
   ],
   "source": [
    "MSE = sum((in_list - out_list) ** 2)\n",
    "MSE"
   ]
  },
  {
   "cell_type": "code",
   "execution_count": 14,
   "metadata": {},
   "outputs": [
    {
     "data": {
      "text/plain": [
       "array([ 10.08089924,  10.05060959,   9.95957947,   9.83676815,\n",
       "         9.53740501,   9.4610815 ,   9.44087219,   9.43546677,\n",
       "         9.43401241,   9.43362045,   9.43351364], dtype=float32)"
      ]
     },
     "execution_count": 14,
     "metadata": {},
     "output_type": "execute_result"
    }
   ],
   "source": [
    "np.dstack(_output_series)[0][0]"
   ]
  },
  {
   "cell_type": "code",
   "execution_count": 27,
   "metadata": {},
   "outputs": [
    {
     "ename": "NotFittedError",
     "evalue": "This MinMaxScaler instance is not fitted yet. Call 'fit' with appropriate arguments before using this method.",
     "output_type": "error",
     "traceback": [
      "\u001b[1;31m---------------------------------------------------------------------------\u001b[0m",
      "\u001b[1;31mNotFittedError\u001b[0m                            Traceback (most recent call last)",
      "\u001b[1;32m<ipython-input-27-ea83920eca04>\u001b[0m in \u001b[0;36m<module>\u001b[1;34m()\u001b[0m\n\u001b[1;32m----> 1\u001b[1;33m \u001b[0mmin_max_scaler\u001b[0m\u001b[1;33m.\u001b[0m\u001b[0minverse_transform\u001b[0m\u001b[1;33m(\u001b[0m\u001b[0mnp\u001b[0m\u001b[1;33m.\u001b[0m\u001b[0marray\u001b[0m\u001b[1;33m(\u001b[0m\u001b[1;33m[\u001b[0m\u001b[1;36m0.52195925\u001b[0m\u001b[1;33m]\u001b[0m\u001b[1;33m)\u001b[0m\u001b[1;33m.\u001b[0m\u001b[0mreshape\u001b[0m\u001b[1;33m(\u001b[0m\u001b[1;33m-\u001b[0m\u001b[1;36m1\u001b[0m\u001b[1;33m,\u001b[0m\u001b[1;36m1\u001b[0m\u001b[1;33m)\u001b[0m\u001b[1;33m)\u001b[0m\u001b[1;33m\u001b[0m\u001b[0m\n\u001b[0m",
      "\u001b[1;32m~\\AppData\\Local\\Continuum\\anaconda3\\envs\\tensorflow\\lib\\site-packages\\sklearn\\preprocessing\\data.py\u001b[0m in \u001b[0;36minverse_transform\u001b[1;34m(self, X)\u001b[0m\n\u001b[0;32m    379\u001b[0m             \u001b[0mInput\u001b[0m \u001b[0mdata\u001b[0m \u001b[0mthat\u001b[0m \u001b[0mwill\u001b[0m \u001b[0mbe\u001b[0m \u001b[0mtransformed\u001b[0m\u001b[1;33m.\u001b[0m \u001b[0mIt\u001b[0m \u001b[0mcannot\u001b[0m \u001b[0mbe\u001b[0m \u001b[0msparse\u001b[0m\u001b[1;33m.\u001b[0m\u001b[1;33m\u001b[0m\u001b[0m\n\u001b[0;32m    380\u001b[0m         \"\"\"\n\u001b[1;32m--> 381\u001b[1;33m         \u001b[0mcheck_is_fitted\u001b[0m\u001b[1;33m(\u001b[0m\u001b[0mself\u001b[0m\u001b[1;33m,\u001b[0m \u001b[1;34m'scale_'\u001b[0m\u001b[1;33m)\u001b[0m\u001b[1;33m\u001b[0m\u001b[0m\n\u001b[0m\u001b[0;32m    382\u001b[0m \u001b[1;33m\u001b[0m\u001b[0m\n\u001b[0;32m    383\u001b[0m         \u001b[0mX\u001b[0m \u001b[1;33m=\u001b[0m \u001b[0mcheck_array\u001b[0m\u001b[1;33m(\u001b[0m\u001b[0mX\u001b[0m\u001b[1;33m,\u001b[0m \u001b[0mcopy\u001b[0m\u001b[1;33m=\u001b[0m\u001b[0mself\u001b[0m\u001b[1;33m.\u001b[0m\u001b[0mcopy\u001b[0m\u001b[1;33m,\u001b[0m \u001b[0mdtype\u001b[0m\u001b[1;33m=\u001b[0m\u001b[0mFLOAT_DTYPES\u001b[0m\u001b[1;33m)\u001b[0m\u001b[1;33m\u001b[0m\u001b[0m\n",
      "\u001b[1;32m~\\AppData\\Local\\Continuum\\anaconda3\\envs\\tensorflow\\lib\\site-packages\\sklearn\\utils\\validation.py\u001b[0m in \u001b[0;36mcheck_is_fitted\u001b[1;34m(estimator, attributes, msg, all_or_any)\u001b[0m\n\u001b[0;32m    766\u001b[0m \u001b[1;33m\u001b[0m\u001b[0m\n\u001b[0;32m    767\u001b[0m     \u001b[1;32mif\u001b[0m \u001b[1;32mnot\u001b[0m \u001b[0mall_or_any\u001b[0m\u001b[1;33m(\u001b[0m\u001b[1;33m[\u001b[0m\u001b[0mhasattr\u001b[0m\u001b[1;33m(\u001b[0m\u001b[0mestimator\u001b[0m\u001b[1;33m,\u001b[0m \u001b[0mattr\u001b[0m\u001b[1;33m)\u001b[0m \u001b[1;32mfor\u001b[0m \u001b[0mattr\u001b[0m \u001b[1;32min\u001b[0m \u001b[0mattributes\u001b[0m\u001b[1;33m]\u001b[0m\u001b[1;33m)\u001b[0m\u001b[1;33m:\u001b[0m\u001b[1;33m\u001b[0m\u001b[0m\n\u001b[1;32m--> 768\u001b[1;33m         \u001b[1;32mraise\u001b[0m \u001b[0mNotFittedError\u001b[0m\u001b[1;33m(\u001b[0m\u001b[0mmsg\u001b[0m \u001b[1;33m%\u001b[0m \u001b[1;33m{\u001b[0m\u001b[1;34m'name'\u001b[0m\u001b[1;33m:\u001b[0m \u001b[0mtype\u001b[0m\u001b[1;33m(\u001b[0m\u001b[0mestimator\u001b[0m\u001b[1;33m)\u001b[0m\u001b[1;33m.\u001b[0m\u001b[0m__name__\u001b[0m\u001b[1;33m}\u001b[0m\u001b[1;33m)\u001b[0m\u001b[1;33m\u001b[0m\u001b[0m\n\u001b[0m\u001b[0;32m    769\u001b[0m \u001b[1;33m\u001b[0m\u001b[0m\n\u001b[0;32m    770\u001b[0m \u001b[1;33m\u001b[0m\u001b[0m\n",
      "\u001b[1;31mNotFittedError\u001b[0m: This MinMaxScaler instance is not fitted yet. Call 'fit' with appropriate arguments before using this method."
     ]
    }
   ],
   "source": [
    "min_max_scaler.inverse_transform(np.array([0.52195925]).reshape(-1,1))"
   ]
  },
  {
   "cell_type": "code",
   "execution_count": null,
   "metadata": {
    "collapsed": true
   },
   "outputs": [],
   "source": []
  }
 ],
 "metadata": {
  "anaconda-cloud": {},
  "kernelspec": {
   "display_name": "Python 3",
   "language": "python",
   "name": "python3"
  },
  "language_info": {
   "codemirror_mode": {
    "name": "ipython",
    "version": 3
   },
   "file_extension": ".py",
   "mimetype": "text/x-python",
   "name": "python",
   "nbconvert_exporter": "python",
   "pygments_lexer": "ipython3",
   "version": "3.6.3"
  }
 },
 "nbformat": 4,
 "nbformat_minor": 1
}
